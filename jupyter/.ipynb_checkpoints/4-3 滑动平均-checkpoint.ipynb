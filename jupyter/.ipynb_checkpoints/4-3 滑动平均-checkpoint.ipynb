{
 "cells": [
  {
   "cell_type": "code",
   "execution_count": 1,
   "metadata": {},
   "outputs": [],
   "source": [
    "import tensorflow as tf"
   ]
  },
  {
   "cell_type": "code",
   "execution_count": 3,
   "metadata": {},
   "outputs": [
    {
     "name": "stdout",
     "output_type": "stream",
     "text": [
      "WARNING:tensorflow:From D:\\Anaconda3\\envs\\tensorflow\\lib\\site-packages\\tensorflow\\python\\framework\\op_def_library.py:263: colocate_with (from tensorflow.python.framework.ops) is deprecated and will be removed in a future version.\n",
      "Instructions for updating:\n",
      "Colocations handled automatically by placer.\n"
     ]
    }
   ],
   "source": [
    "#1. 定义变量及滑动平均类\n",
    "# 定义一个32位的浮点变量，初始值位0.0 这个代码就是不断更新w1参数，优化w1参数，滑动平均做了\n",
    "# 一个w1的影子\n",
    "w1 = tf.Variable(0, dtype=tf.float32)"
   ]
  },
  {
   "cell_type": "code",
   "execution_count": 4,
   "metadata": {},
   "outputs": [],
   "source": [
    "# 定义num_updates(NN的迭代轮数)，初始值位0，不可被优化（训练）\n",
    "global_step = tf.Variable(0, trainable=False)"
   ]
  },
  {
   "cell_type": "code",
   "execution_count": 5,
   "metadata": {},
   "outputs": [],
   "source": [
    "# 实例化滑动平均类，给衰减率为0.99，当前轮数global_step\n",
    "MOVING_AVERAGE_DECAY = 0.99\n",
    "ema = tf.train.ExponentialMovingAverage(MOVING_AVERAGE_DECAY, global_step)"
   ]
  },
  {
   "cell_type": "code",
   "execution_count": 6,
   "metadata": {},
   "outputs": [],
   "source": [
    "#ema.apply后面的括号是更新列表，每次运行sess.run(ema_op)时，对更新参数列表中的\n",
    "#元素求滑动均值\n",
    "ema_op = ema.apply(tf.trainable_variables())\n"
   ]
  },
  {
   "cell_type": "code",
   "execution_count": 7,
   "metadata": {},
   "outputs": [
    {
     "name": "stdout",
     "output_type": "stream",
     "text": [
      "[0.0, 0.0]\n",
      "[1.0, 0.9]\n",
      "[10.0, 1.6445453]\n",
      "[10.0, 2.3281732]\n",
      "[10.0, 2.955868]\n",
      "[10.0, 3.532206]\n",
      "[10.0, 4.061389]\n",
      "[10.0, 4.547275]\n",
      "[10.0, 4.9934072]\n"
     ]
    }
   ],
   "source": [
    "#2. 查看不懂迭代中变量取值的变化\n",
    "with tf.Session() as sess:\n",
    "    init_op = tf.global_variables_initializer()\n",
    "    sess.run(init_op)\n",
    "    #用ema.average(w1)获取w1滑动平均值（要运行多个节点，作为列表中的元素列出，\n",
    "    #写在sess.run中）\n",
    "    #打印当前参数w1和w1的滑动平均值\n",
    "    print(sess.run([w1, ema.average(w1)]))\n",
    "    \n",
    "    \n",
    "    #参数w1赋值为1\n",
    "    sess.run(tf.assign(w1, 1))\n",
    "    sess.run(ema_op)\n",
    "    print(sess.run([w1, ema.average(w1)]))\n",
    "    \n",
    "    #更新setp和w1的值，模拟出迭代100次后，参数w1变成10\n",
    "    sess.run(tf.assign(global_step, 100))\n",
    "    sess.run(tf.assign(w1, 10))\n",
    "    sess.run(ema_op)\n",
    "    print(sess.run([w1, ema.average(w1)]))\n",
    "    \n",
    "    #每次sess.run会自动更新w1的滑动均值\n",
    "    sess.run(ema_op)\n",
    "    print(sess.run([w1, ema.average(w1)]))\n",
    "    sess.run(ema_op)\n",
    "    print(sess.run([w1, ema.average(w1)]))\n",
    "    sess.run(ema_op)\n",
    "    print(sess.run([w1, ema.average(w1)]))\n",
    "    sess.run(ema_op)\n",
    "    print(sess.run([w1, ema.average(w1)]))\n",
    "    sess.run(ema_op)\n",
    "    print(sess.run([w1, ema.average(w1)]))\n",
    "    sess.run(ema_op)\n",
    "    print(sess.run([w1, ema.average(w1)]))"
   ]
  },
  {
   "cell_type": "code",
   "execution_count": null,
   "metadata": {},
   "outputs": [],
   "source": []
  }
 ],
 "metadata": {
  "kernelspec": {
   "display_name": "Python 3",
   "language": "python",
   "name": "python3"
  },
  "language_info": {
   "codemirror_mode": {
    "name": "ipython",
    "version": 3
   },
   "file_extension": ".py",
   "mimetype": "text/x-python",
   "name": "python",
   "nbconvert_exporter": "python",
   "pygments_lexer": "ipython3",
   "version": "3.7.4"
  }
 },
 "nbformat": 4,
 "nbformat_minor": 2
}
