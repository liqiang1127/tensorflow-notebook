{
 "cells": [
  {
   "cell_type": "code",
   "execution_count": 1,
   "metadata": {},
   "outputs": [
    {
     "ename": "ModuleNotFoundError",
     "evalue": "No module named 'matplotlib'",
     "output_type": "error",
     "traceback": [
      "\u001b[1;31m---------------------------------------------------------------------------\u001b[0m",
      "\u001b[1;31mModuleNotFoundError\u001b[0m                       Traceback (most recent call last)",
      "\u001b[1;32m<ipython-input-1-059aeb0d7973>\u001b[0m in \u001b[0;36m<module>\u001b[1;34m\u001b[0m\n\u001b[0;32m      1\u001b[0m \u001b[1;32mimport\u001b[0m \u001b[0mtensorflow\u001b[0m \u001b[1;32mas\u001b[0m \u001b[0mtf\u001b[0m\u001b[1;33m\u001b[0m\u001b[1;33m\u001b[0m\u001b[0m\n\u001b[0;32m      2\u001b[0m \u001b[1;32mimport\u001b[0m \u001b[0mnumpy\u001b[0m \u001b[1;32mas\u001b[0m \u001b[0mnp\u001b[0m\u001b[1;33m\u001b[0m\u001b[1;33m\u001b[0m\u001b[0m\n\u001b[1;32m----> 3\u001b[1;33m \u001b[1;32mimport\u001b[0m \u001b[0mmatplotlib\u001b[0m\u001b[1;33m.\u001b[0m\u001b[0mpyplot\u001b[0m \u001b[1;32mas\u001b[0m \u001b[0mplt\u001b[0m\u001b[1;33m\u001b[0m\u001b[1;33m\u001b[0m\u001b[0m\n\u001b[0m",
      "\u001b[1;31mModuleNotFoundError\u001b[0m: No module named 'matplotlib'"
     ]
    }
   ],
   "source": [
    "import tensorflow as tf\n",
    "import numpy as np\n",
    "import matplotlib.pyplot as plt"
   ]
  },
  {
   "cell_type": "code",
   "execution_count": null,
   "metadata": {},
   "outputs": [],
   "source": [
    "BATCH_SIZE = 30\n",
    "seed = 2\n",
    "STEPS = 40000"
   ]
  },
  {
   "cell_type": "code",
   "execution_count": null,
   "metadata": {},
   "outputs": [],
   "source": [
    "np.random.seed(seed)\n",
    "X = np.random.randn(300, 2)\n",
    "\n",
    "Y_ = [int(x0 * x0 + x1 * x1 < 2) for (x0, x1) in X]\n",
    "\n",
    "Y_c = [['red' if y else 'blue'] for y in Y_]\n",
    "\n",
    "X = np.vstack(X).reshape(-1, 2)\n",
    "Y_ = np.vstack(Y_).reshape(-1, 1)\n",
    "\n",
    "print(X.shape)\n",
    "print(Y_.shape)"
   ]
  },
  {
   "cell_type": "code",
   "execution_count": null,
   "metadata": {},
   "outputs": [],
   "source": [
    "plt.scatter(X[:, 0], X[:, 1], c=np.squeeze(Y_c))\n",
    "plt.show()"
   ]
  },
  {
   "cell_type": "code",
   "execution_count": null,
   "metadata": {},
   "outputs": [],
   "source": [
    "def get_weight(shape, regularizer):\n",
    "    W = tf.Variable(tf.random_normal(shape), dtype=tf.float32)\n",
    "    tf.add_to_collection('losses', tf.contrib.layers.l2_regularizer(regularizer)(W))\n",
    "    return W\n",
    "\n",
    "\n",
    "def get_bias(shape):\n",
    "    b = tf.Variable(tf.constant(0.01, shape=shape))\n",
    "    return b"
   ]
  },
  {
   "cell_type": "code",
   "execution_count": null,
   "metadata": {},
   "outputs": [],
   "source": [
    "x = tf.placeholder(tf.float32, shape=(None, 2))\n",
    "y_ = tf.placeholder(tf.float32, shape=(None, 1))\n",
    "\n",
    "W1 = get_weight([2, 11], 0.01)\n",
    "b1 = get_bias([11])\n",
    "y1 = tf.nn.relu(tf.matmul(x, W1) + b1)\n",
    "\n",
    "W2 = get_weight([11, 1], 0.001)\n",
    "b2 = get_bias([1])\n",
    "y = tf.matmul(y1, W2) + b2\n",
    "\n",
    "loss_mse = tf.reduce_mean(tf.square(y - y_))\n",
    "loss_total = loss_mse + tf.add_n(tf.get_collection('losses'))"
   ]
  },
  {
   "cell_type": "code",
   "execution_count": null,
   "metadata": {},
   "outputs": [],
   "source": [
    "# 无正则化\n",
    "train_step = tf.train.AdamOptimizer(0.0001).minimize(loss_mse)\n",
    "\n",
    "with tf.Session() as sess:\n",
    "    init_op = tf.global_variables_initializer()\n",
    "    sess.run(init_op)\n",
    "    for i in range(STEPS):\n",
    "        start = (i * BATCH_SIZE) % 300\n",
    "        end = start + BATCH_SIZE\n",
    "        sess.run(train_step, feed_dict={x: X[start:end], y_: Y_[start:end]})\n",
    "        if i % 2000 == 0:\n",
    "            loss_mse_v = sess.run(loss_mse, feed_dict={x: X, y_: Y_})\n",
    "            print('Step:%d , loss：%f ' % (i, loss_mse_v))\n",
    "\n",
    "    xx, yy = np.mgrid[-3:3:0.1, -3:3:0.1]\n",
    "    grid = np.c_[xx.ravel(), yy.ravel()]\n",
    "    probs = sess.run(y, feed_dict={x: grid})\n",
    "    probs = probs.reshape(xx.shape)\n",
    "    # print \"W1:\\n\",sess.run(W1)\n",
    "    # print \"b1:\\n\",sess.run(b1)\n",
    "    # print \"W2:\\n\",sess.run(W2)\n",
    "    # print \"b2:\\n\",sess.run(b2)\n",
    "\n",
    "plt.scatter(X[:, 0], X[:, 1], c=np.squeeze(Y_c))\n",
    "plt.contour(xx, yy, probs, levels=[.5])\n",
    "plt.show()"
   ]
  },
  {
   "cell_type": "code",
   "execution_count": null,
   "metadata": {},
   "outputs": [],
   "source": [
    "# 有正则化\n",
    "train_step = tf.train.AdamOptimizer(0.0001).minimize(loss_total)\n",
    "\n",
    "with tf.Session() as sess:\n",
    "    init_op = tf.global_variables_initializer()\n",
    "    sess.run(init_op)\n",
    "    for i in range(STEPS):\n",
    "        start = (i * BATCH_SIZE) % 300\n",
    "        end = start + BATCH_SIZE\n",
    "        sess.run(train_step, feed_dict={x: X[start:end], y_: Y_[start:end]})\n",
    "        if i % 2000 == 0:\n",
    "            loss_mse_v = sess.run(loss_mse, feed_dict={x: X, y_: Y_})\n",
    "            print('Step:%d , loss：%f ' % (i, loss_mse_v))\n",
    "\n",
    "    xx, yy = np.mgrid[-3:3:0.1, -3:3:0.1]\n",
    "    grid = np.c_[xx.ravel(), yy.ravel()]\n",
    "    probs = sess.run(y, feed_dict={x: grid})\n",
    "    probs = probs.reshape(xx.shape)\n",
    "    # print \"W1:\\n\",sess.run(W1)\n",
    "    # print \"b1:\\n\",sess.run(b1)\n",
    "    # print \"W2:\\n\",sess.run(W2)\n",
    "    # print \"b2:\\n\",sess.run(b2)\n",
    "\n",
    "plt.scatter(X[:, 0], X[:, 1], c=np.squeeze(Y_c))\n",
    "plt.contour(xx, yy, probs, levels=[.5])\n",
    "plt.show()"
   ]
  },
  {
   "cell_type": "code",
   "execution_count": null,
   "metadata": {},
   "outputs": [],
   "source": []
  }
 ],
 "metadata": {
  "kernelspec": {
   "display_name": "Python 3",
   "language": "python",
   "name": "python3"
  },
  "language_info": {
   "codemirror_mode": {
    "name": "ipython",
    "version": 3
   },
   "file_extension": ".py",
   "mimetype": "text/x-python",
   "name": "python",
   "nbconvert_exporter": "python",
   "pygments_lexer": "ipython3",
   "version": "3.6.9"
  }
 },
 "nbformat": 4,
 "nbformat_minor": 2
}
