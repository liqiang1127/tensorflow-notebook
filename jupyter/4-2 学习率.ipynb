{
 "cells": [
  {
   "cell_type": "code",
   "execution_count": 1,
   "metadata": {},
   "outputs": [],
   "source": [
    "import tensorflow as tf"
   ]
  },
  {
   "cell_type": "code",
   "execution_count": 2,
   "metadata": {},
   "outputs": [
    {
     "name": "stdout",
     "output_type": "stream",
     "text": [
      "WARNING:tensorflow:From D:\\Anaconda3\\envs\\tensorflow\\lib\\site-packages\\tensorflow\\python\\framework\\op_def_library.py:263: colocate_with (from tensorflow.python.framework.ops) is deprecated and will be removed in a future version.\n",
      "Instructions for updating:\n",
      "Colocations handled automatically by placer.\n"
     ]
    }
   ],
   "source": [
    "learn_rate = 0.2\n",
    "\n",
    "w = tf.Variable(tf.constant(5, dtype=tf.float32))\n",
    "loss = tf.square(w+1)\n",
    "opt = tf.train.GradientDescentOptimizer(learn_rate)"
   ]
  },
  {
   "cell_type": "code",
   "execution_count": 3,
   "metadata": {},
   "outputs": [],
   "source": [
    "train_step = opt.minimize(loss)"
   ]
  },
  {
   "cell_type": "code",
   "execution_count": 4,
   "metadata": {
    "scrolled": true
   },
   "outputs": [
    {
     "name": "stdout",
     "output_type": "stream",
     "text": [
      "After 0 step: w is 2.600000, loss is 12.959999 \n",
      "After 1 step: w is 1.160000, loss is 4.665599 \n",
      "After 2 step: w is 0.296000, loss is 1.679616 \n",
      "After 3 step: w is -0.222400, loss is 0.604662 \n",
      "After 4 step: w is -0.533440, loss is 0.217678 \n",
      "After 5 step: w is -0.720064, loss is 0.078364 \n",
      "After 6 step: w is -0.832038, loss is 0.028211 \n",
      "After 7 step: w is -0.899223, loss is 0.010156 \n",
      "After 8 step: w is -0.939534, loss is 0.003656 \n",
      "After 9 step: w is -0.963720, loss is 0.001316 \n",
      "After 10 step: w is -0.978232, loss is 0.000474 \n",
      "After 11 step: w is -0.986939, loss is 0.000171 \n",
      "After 12 step: w is -0.992164, loss is 0.000061 \n",
      "After 13 step: w is -0.995298, loss is 0.000022 \n",
      "After 14 step: w is -0.997179, loss is 0.000008 \n",
      "After 15 step: w is -0.998307, loss is 0.000003 \n",
      "After 16 step: w is -0.998984, loss is 0.000001 \n",
      "After 17 step: w is -0.999391, loss is 0.000000 \n",
      "After 18 step: w is -0.999634, loss is 0.000000 \n",
      "After 19 step: w is -0.999781, loss is 0.000000 \n",
      "After 20 step: w is -0.999868, loss is 0.000000 \n",
      "After 21 step: w is -0.999921, loss is 0.000000 \n",
      "After 22 step: w is -0.999953, loss is 0.000000 \n",
      "After 23 step: w is -0.999972, loss is 0.000000 \n",
      "After 24 step: w is -0.999983, loss is 0.000000 \n",
      "After 25 step: w is -0.999990, loss is 0.000000 \n",
      "After 26 step: w is -0.999994, loss is 0.000000 \n",
      "After 27 step: w is -0.999996, loss is 0.000000 \n",
      "After 28 step: w is -0.999998, loss is 0.000000 \n",
      "After 29 step: w is -0.999999, loss is 0.000000 \n",
      "After 30 step: w is -0.999999, loss is 0.000000 \n",
      "After 31 step: w is -1.000000, loss is 0.000000 \n",
      "After 32 step: w is -1.000000, loss is 0.000000 \n",
      "After 33 step: w is -1.000000, loss is 0.000000 \n",
      "After 34 step: w is -1.000000, loss is 0.000000 \n",
      "After 35 step: w is -1.000000, loss is 0.000000 \n",
      "After 36 step: w is -1.000000, loss is 0.000000 \n",
      "After 37 step: w is -1.000000, loss is 0.000000 \n",
      "After 38 step: w is -1.000000, loss is 0.000000 \n",
      "After 39 step: w is -1.000000, loss is 0.000000 \n"
     ]
    }
   ],
   "source": [
    "with tf.Session() as sess:\n",
    "    init_op = tf.global_variables_initializer()\n",
    "    sess.run(init_op)\n",
    "    for i in range(40):\n",
    "        sess.run(train_step)\n",
    "        w_val = sess.run(w)\n",
    "        loss_val = sess.run(loss)\n",
    "        print(\"After %s step: w is %f, loss is %f \" %(i,w_val,loss_val))"
   ]
  },
  {
   "cell_type": "markdown",
   "metadata": {},
   "source": [
    "## 指数衰减学习率"
   ]
  },
  {
   "cell_type": "code",
   "execution_count": 5,
   "metadata": {},
   "outputs": [],
   "source": [
    "LEARN_RATE_BASE = 0.1 #最初的学习率\n",
    "LEARN_RATE_DECAY = 0.99 #学习率衰减率\n",
    "LEARN_RATE_STEP = 1 #喂入多少轮BATCH_SIZE后，更新一次学习率，一般设为：总体样本数/BATCH_SIZE"
   ]
  },
  {
   "cell_type": "code",
   "execution_count": 6,
   "metadata": {},
   "outputs": [],
   "source": [
    "#运行了几轮BATCH_SIZE的计数器，初值为0，设为不被训练\n",
    "globle_step = tf.Variable(0, trainable=False)"
   ]
  },
  {
   "cell_type": "code",
   "execution_count": 8,
   "metadata": {},
   "outputs": [],
   "source": [
    "#定义指数下降学习率\n",
    "learning_rate = tf.train.exponential_decay(LEARN_RATE_BASE,globle_step,\n",
    "                                           LEARN_RATE_STEP,LEARN_RATE_DECAY, staircase=False)"
   ]
  },
  {
   "cell_type": "code",
   "execution_count": 9,
   "metadata": {},
   "outputs": [],
   "source": [
    "w = tf.Variable(tf.constant(5, dtype=tf.float32))\n",
    "loss = tf.square(w+1)\n",
    "opt = tf.train.GradientDescentOptimizer(learning_rate)"
   ]
  },
  {
   "cell_type": "code",
   "execution_count": 10,
   "metadata": {},
   "outputs": [],
   "source": [
    "train_step = opt.minimize(loss,global_step=globle_step)"
   ]
  },
  {
   "cell_type": "code",
   "execution_count": 11,
   "metadata": {},
   "outputs": [
    {
     "name": "stdout",
     "output_type": "stream",
     "text": [
      "After 0 step: global_step is 1.000000, w is 3.800000, learing rate is 0.099000, loss is 23.040001 \n",
      "After 1 step: global_step is 2.000000, w is 2.849600, learing rate is 0.098010, loss is 14.819419 \n",
      "After 2 step: global_step is 3.000000, w is 2.095001, learing rate is 0.097030, loss is 9.579033 \n",
      "After 3 step: global_step is 4.000000, w is 1.494386, learing rate is 0.096060, loss is 6.221960 \n",
      "After 4 step: global_step is 5.000000, w is 1.015166, learing rate is 0.095099, loss is 4.060895 \n",
      "After 5 step: global_step is 6.000000, w is 0.631886, learing rate is 0.094148, loss is 2.663051 \n",
      "After 6 step: global_step is 7.000000, w is 0.324608, learing rate is 0.093207, loss is 1.754587 \n",
      "After 7 step: global_step is 8.000000, w is 0.077684, learing rate is 0.092274, loss is 1.161402 \n",
      "After 8 step: global_step is 9.000000, w is -0.121202, learing rate is 0.091352, loss is 0.772287 \n",
      "After 9 step: global_step is 10.000000, w is -0.281761, learing rate is 0.090438, loss is 0.515867 \n",
      "After 10 step: global_step is 11.000000, w is -0.411674, learing rate is 0.089534, loss is 0.346128 \n",
      "After 11 step: global_step is 12.000000, w is -0.517024, learing rate is 0.088638, loss is 0.233266 \n",
      "After 12 step: global_step is 13.000000, w is -0.602644, learing rate is 0.087752, loss is 0.157891 \n",
      "After 13 step: global_step is 14.000000, w is -0.672382, learing rate is 0.086875, loss is 0.107334 \n",
      "After 14 step: global_step is 15.000000, w is -0.729305, learing rate is 0.086006, loss is 0.073276 \n",
      "After 15 step: global_step is 16.000000, w is -0.775868, learing rate is 0.085146, loss is 0.050235 \n",
      "After 16 step: global_step is 17.000000, w is -0.814036, learing rate is 0.084294, loss is 0.034583 \n",
      "After 17 step: global_step is 18.000000, w is -0.845387, learing rate is 0.083451, loss is 0.023905 \n",
      "After 18 step: global_step is 19.000000, w is -0.871193, learing rate is 0.082617, loss is 0.016591 \n",
      "After 19 step: global_step is 20.000000, w is -0.892476, learing rate is 0.081791, loss is 0.011561 \n",
      "After 20 step: global_step is 21.000000, w is -0.910065, learing rate is 0.080973, loss is 0.008088 \n",
      "After 21 step: global_step is 22.000000, w is -0.924629, learing rate is 0.080163, loss is 0.005681 \n",
      "After 22 step: global_step is 23.000000, w is -0.936713, learing rate is 0.079361, loss is 0.004005 \n",
      "After 23 step: global_step is 24.000000, w is -0.946758, learing rate is 0.078568, loss is 0.002835 \n",
      "After 24 step: global_step is 25.000000, w is -0.955125, learing rate is 0.077782, loss is 0.002014 \n",
      "After 25 step: global_step is 26.000000, w is -0.962106, learing rate is 0.077004, loss is 0.001436 \n",
      "After 26 step: global_step is 27.000000, w is -0.967942, learing rate is 0.076234, loss is 0.001028 \n",
      "After 27 step: global_step is 28.000000, w is -0.972830, learing rate is 0.075472, loss is 0.000738 \n",
      "After 28 step: global_step is 29.000000, w is -0.976931, learing rate is 0.074717, loss is 0.000532 \n",
      "After 29 step: global_step is 30.000000, w is -0.980378, learing rate is 0.073970, loss is 0.000385 \n",
      "After 30 step: global_step is 31.000000, w is -0.983281, learing rate is 0.073230, loss is 0.000280 \n",
      "After 31 step: global_step is 32.000000, w is -0.985730, learing rate is 0.072498, loss is 0.000204 \n",
      "After 32 step: global_step is 33.000000, w is -0.987799, learing rate is 0.071773, loss is 0.000149 \n",
      "After 33 step: global_step is 34.000000, w is -0.989550, learing rate is 0.071055, loss is 0.000109 \n",
      "After 34 step: global_step is 35.000000, w is -0.991035, learing rate is 0.070345, loss is 0.000080 \n",
      "After 35 step: global_step is 36.000000, w is -0.992297, learing rate is 0.069641, loss is 0.000059 \n",
      "After 36 step: global_step is 37.000000, w is -0.993369, learing rate is 0.068945, loss is 0.000044 \n",
      "After 37 step: global_step is 38.000000, w is -0.994284, learing rate is 0.068255, loss is 0.000033 \n",
      "After 38 step: global_step is 39.000000, w is -0.995064, learing rate is 0.067573, loss is 0.000024 \n",
      "After 39 step: global_step is 40.000000, w is -0.995731, learing rate is 0.066897, loss is 0.000018 \n"
     ]
    }
   ],
   "source": [
    "with tf.Session() as sess:\n",
    "    init_op = tf.global_variables_initializer()\n",
    "    sess.run(init_op)\n",
    "    for i in range(40):\n",
    "        sess.run(train_step)\n",
    "        w_val = sess.run(w)\n",
    "        loss_val = sess.run(loss)\n",
    "        global_step_val = sess.run(globle_step)\n",
    "        learning_rate_val = sess.run(learning_rate)\n",
    "        print(\"After %s step: global_step is %f, w is %f, learing rate is %f, loss is %f \"\n",
    "              %(i,global_step_val,w_val,learning_rate_val, loss_val))"
   ]
  },
  {
   "cell_type": "code",
   "execution_count": null,
   "metadata": {},
   "outputs": [],
   "source": []
  }
 ],
 "metadata": {
  "kernelspec": {
   "display_name": "Python 3",
   "language": "python",
   "name": "python3"
  },
  "language_info": {
   "codemirror_mode": {
    "name": "ipython",
    "version": 3
   },
   "file_extension": ".py",
   "mimetype": "text/x-python",
   "name": "python",
   "nbconvert_exporter": "python",
   "pygments_lexer": "ipython3",
   "version": "3.7.4"
  }
 },
 "nbformat": 4,
 "nbformat_minor": 2
}
