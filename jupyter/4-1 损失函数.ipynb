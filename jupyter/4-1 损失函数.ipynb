{
 "cells": [
  {
   "cell_type": "code",
   "execution_count": 1,
   "metadata": {},
   "outputs": [
    {
     "name": "stderr",
     "output_type": "stream",
     "text": [
      "D:\\Anaconda\\lib\\site-packages\\h5py\\__init__.py:36: FutureWarning: Conversion of the second argument of issubdtype from `float` to `np.floating` is deprecated. In future, it will be treated as `np.float64 == np.dtype(float).type`.\n",
      "  from ._conv import register_converters as _register_converters\n"
     ]
    }
   ],
   "source": [
    "import tensorflow as tf\n",
    "import numpy as np"
   ]
  },
  {
   "cell_type": "code",
   "execution_count": 2,
   "metadata": {},
   "outputs": [],
   "source": [
    "BATCH_SIZE = 8\n",
    "SEED = 23455"
   ]
  },
  {
   "cell_type": "markdown",
   "metadata": {},
   "source": [
    "## 0 准备数据集合"
   ]
  },
  {
   "cell_type": "code",
   "execution_count": 3,
   "metadata": {},
   "outputs": [],
   "source": [
    "rdm = np.random.RandomState(SEED)\n",
    "X = rdm.rand(32,2)\n",
    "Y_ = [[x1+x2+(rdm.rand()/10.0-0.05)] for (x1,x2) in X]"
   ]
  },
  {
   "cell_type": "markdown",
   "metadata": {},
   "source": [
    "## 1 定义神经网络的输入、参数和输出，定义向前传播过程"
   ]
  },
  {
   "cell_type": "code",
   "execution_count": 4,
   "metadata": {},
   "outputs": [],
   "source": [
    "x = tf.placeholder(tf.float32, shape=(None, 2))\n",
    "y_ = tf.placeholder(tf.float32, shape=(None, 1))\n",
    "w1 = tf.Variable(tf.random_normal([2,1], stddev=1, seed=1))\n",
    "y = tf.matmul(x, w1)"
   ]
  },
  {
   "cell_type": "markdown",
   "metadata": {},
   "source": [
    "## 2 定义损失函数以及反向传播方法"
   ]
  },
  {
   "cell_type": "code",
   "execution_count": 5,
   "metadata": {},
   "outputs": [],
   "source": [
    "#a 标准的mse损失函数\n",
    "#loss = tf.reduce_mean(tf.square(y-y_))\n",
    "#b 加权损失函数 分段函数 预测值大于真实值(酸奶做多了，损失成本) 反之损失收益\n",
    "COST = 1\n",
    "PROFIT = 9\n",
    "loss = tf.reduce_mean(tf.where(tf.greater(y, y_), (y-y_)*COST, (y_-y)*PROFIT ))\n",
    "opt = tf.train.GradientDescentOptimizer(0.001)"
   ]
  },
  {
   "cell_type": "code",
   "execution_count": 6,
   "metadata": {},
   "outputs": [],
   "source": [
    "train_step = opt.minimize(loss)"
   ]
  },
  {
   "cell_type": "code",
   "execution_count": 7,
   "metadata": {},
   "outputs": [
    {
     "name": "stdout",
     "output_type": "stream",
     "text": [
      "After 0 training steps, w1 is:\n",
      "[[-0.8052776]\n",
      " [ 1.4877197]] \n",
      "\n",
      "After 1000 training steps, w1 is:\n",
      "[[0.7987175]\n",
      " [1.9026194]] \n",
      "\n",
      "After 2000 training steps, w1 is:\n",
      "[[0.94721854]\n",
      " [1.473387  ]] \n",
      "\n",
      "After 3000 training steps, w1 is:\n",
      "[[1.002287 ]\n",
      " [1.0734401]] \n",
      "\n",
      "After 4000 training steps, w1 is:\n",
      "[[1.0180526]\n",
      " [1.0440917]] \n",
      "\n",
      "After 5000 training steps, w1 is:\n",
      "[[1.0176336]\n",
      " [1.0453868]] \n",
      "\n",
      "After 6000 training steps, w1 is:\n",
      "[[1.01775  ]\n",
      " [1.0449886]] \n",
      "\n",
      "After 7000 training steps, w1 is:\n",
      "[[1.0176187]\n",
      " [1.0449595]] \n",
      "\n",
      "After 8000 training steps, w1 is:\n",
      "[[1.018133 ]\n",
      " [1.0448177]] \n",
      "\n",
      "After 9000 training steps, w1 is:\n",
      "[[1.0175838]\n",
      " [1.0450099]] \n",
      "\n",
      "After 10000 training steps, w1 is:\n",
      "[[1.0177003]\n",
      " [1.0446117]] \n",
      "\n",
      "After 11000 training steps, w1 is:\n",
      "[[1.017569 ]\n",
      " [1.0445826]] \n",
      "\n",
      "After 12000 training steps, w1 is:\n",
      "[[1.0176655]\n",
      " [1.044662 ]] \n",
      "\n",
      "After 13000 training steps, w1 is:\n",
      "[[1.0185778]\n",
      " [1.0447764]] \n",
      "\n",
      "After 14000 training steps, w1 is:\n",
      "[[1.0177808]\n",
      " [1.0453377]] \n",
      "\n",
      "After 15000 training steps, w1 is:\n",
      "[[1.018543 ]\n",
      " [1.0448267]] \n",
      "\n",
      "After 16000 training steps, w1 is:\n",
      "[[1.017746]\n",
      " [1.045388]] \n",
      "\n",
      "After 17000 training steps, w1 is:\n",
      "[[1.0177124]\n",
      " [1.0443645]] \n",
      "\n",
      "After 18000 training steps, w1 is:\n",
      "[[1.0186247]\n",
      " [1.0444789]] \n",
      "\n",
      "After 19000 training steps, w1 is:\n",
      "[[1.0178276]\n",
      " [1.0450401]] \n",
      "\n",
      "Final w1 is: \n",
      " [[1.0178194]\n",
      " [1.0444762]]\n"
     ]
    }
   ],
   "source": [
    "with tf.Session() as sess:\n",
    "    #初始化所有变量\n",
    "    init_op = tf.global_variables_initializer()\n",
    "    sess.run(init_op)\n",
    "    STEPS = 20000\n",
    "    for i in range(STEPS):\n",
    "        start = (i*BATCH_SIZE) % 32\n",
    "        end = start + BATCH_SIZE\n",
    "        sess.run(train_step, feed_dict={x:X[start:end], y_:Y_[start:end]})\n",
    "        if i % 1000 == 0:\n",
    "            print(\"After %d training steps, w1 is:\" % (i))\n",
    "            print(sess.run(w1), \"\\r\\n\")\n",
    "    print(\"Final w1 is: \\r\\n\", sess.run(w1))"
   ]
  },
  {
   "cell_type": "code",
   "execution_count": null,
   "metadata": {},
   "outputs": [],
   "source": []
  }
 ],
 "metadata": {
  "kernelspec": {
   "display_name": "Python 3",
   "language": "python",
   "name": "python3"
  },
  "language_info": {
   "codemirror_mode": {
    "name": "ipython",
    "version": 3
   },
   "file_extension": ".py",
   "mimetype": "text/x-python",
   "name": "python",
   "nbconvert_exporter": "python",
   "pygments_lexer": "ipython3",
   "version": "3.6.5"
  }
 },
 "nbformat": 4,
 "nbformat_minor": 2
}
